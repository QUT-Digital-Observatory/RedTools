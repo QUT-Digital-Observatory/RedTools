{
 "cells": [
  {
   "cell_type": "markdown",
   "metadata": {},
   "source": [
    "Reddit Trees - constructing conversation trees from Reddit posts. \n",
    "\n",
    "Nodes assigned a topic from BERTopic model or LDA model."
   ]
  },
  {
   "cell_type": "code",
   "execution_count": null,
   "metadata": {},
   "outputs": [],
   "source": [
    "from reddit_topic_trees import Reddit_trees\n",
    "import pandas as pd\n",
    "import numpy as np"
   ]
  },
  {
   "cell_type": "markdown",
   "metadata": {},
   "source": [
    "Load data to make a working dataframe\n",
    "\n",
    "The working dataframe should contain three key columns that the code uses to make the trees - link_id, parent_id and replies"
   ]
  },
  {
   "cell_type": "code",
   "execution_count": null,
   "metadata": {},
   "outputs": [],
   "source": [
    "data = pd.read_csv('test_data.csv')\n",
    "\n",
    "#check the data\n",
    "\n",
    "print(data.head(5))"
   ]
  },
  {
   "cell_type": "markdown",
   "metadata": {},
   "source": [
    "You can make some choices about the workflow at this point:\n",
    "\n",
    "you can pass the dataframe unaltered to the graph making code;\n",
    "\n",
    "you can run the BERTopic topic modelling and then make the graphs (requires a GPU for optimal performance);\n",
    "\n",
    "you can run the LDA topic modelling and then make the graphs (requires extra NLP steps).\n",
    "\n",
    "If you choose to topic model there is a further consideration to be made. Topics are assigned at a document level, that means only one topic will be assigned per document. If you want a more in depth look at the topics being discussed (especially in longer posts) you can choose to expand the documents to a sentence level and model the sentences. "
   ]
  },
  {
   "cell_type": "markdown",
   "metadata": {},
   "source": [
    "Dataframe by itself\n",
    "\n",
    "\n",
    "The first step is to set up the Reddit_trees class which manages the code tools."
   ]
  },
  {
   "cell_type": "code",
   "execution_count": null,
   "metadata": {},
   "outputs": [],
   "source": [
    "#set up reddit tree tools class\n",
    "\n",
    "reddit_workflow = Reddit_trees()"
   ]
  },
  {
   "cell_type": "code",
   "execution_count": null,
   "metadata": {},
   "outputs": [],
   "source": [
    "G_tree, adj_list = reddit_workflow.tree_graph_and_adj_list(data, incl_topics = False)"
   ]
  }
 ],
 "metadata": {
  "language_info": {
   "name": "python"
  }
 },
 "nbformat": 4,
 "nbformat_minor": 2
}
