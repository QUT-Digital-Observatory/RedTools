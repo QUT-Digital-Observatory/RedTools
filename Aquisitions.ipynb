{
 "cells": [
  {
   "cell_type": "markdown",
   "metadata": {},
   "source": [
    "This is the Aquisitions notebook - Start here!\n",
    "\n",
    "This notebook aquires data from:\n",
    "\n",
    "The Reddit API\n",
    "\n",
    "The AusReddit API\n",
    "\n",
    "Your own data in the from csv or similar\n",
    "\n",
    "It will output a file that can be used with all subsequent notebooks/tools (parquet/csv/excel output files)"
   ]
  },
  {
   "cell_type": "code",
   "execution_count": 1,
   "metadata": {},
   "outputs": [
    {
     "name": "stderr",
     "output_type": "stream",
     "text": [
      "/home/fleetr/.venv/lib/python3.11/site-packages/tqdm/auto.py:21: TqdmWarning: IProgress not found. Please update jupyter and ipywidgets. See https://ipywidgets.readthedocs.io/en/stable/user_install.html\n",
      "  from .autonotebook import tqdm as notebook_tqdm\n",
      "100%|██████████| 113/113 [00:00<00:00, 67094.61it/s]\n",
      "100%|██████████| 1/1 [00:04<00:00,  4.32s/it]\n"
     ]
    }
   ],
   "source": [
    "import pandas as pd\n",
    "from reddit_topic_trees import Reddit_trees\n",
    "import praw"
   ]
  },
  {
   "cell_type": "markdown",
   "metadata": {},
   "source": [
    "USING REDDIT API\n",
    "\n",
    "The reddit API is able to be used to gather data. It requires that a \"REDDIT\" praw object. You will need to set up your API access - https://www.reddit.com/r/reddit.com/wiki/api/ for instructions. "
   ]
  },
  {
   "cell_type": "code",
   "execution_count": null,
   "metadata": {},
   "outputs": [],
   "source": [
    "reddit = praw.Reddit(client_id='your-client-id-here', \n",
    "                    client_secret='your-client-secret-here', \n",
    "                    redirect_uri='http://localhost:8080',                     \n",
    "                    user_agent='your-user-agent-here')"
   ]
  },
  {
   "cell_type": "markdown",
   "metadata": {},
   "source": [
    "The code for searching reddit is already contained in the Reddit_trees package so we also need to set that up"
   ]
  },
  {
   "cell_type": "code",
   "execution_count": null,
   "metadata": {},
   "outputs": [],
   "source": [
    "reddit_trees = Reddit_trees()"
   ]
  },
  {
   "cell_type": "markdown",
   "metadata": {},
   "source": [
    "First steps - search for submissions\n",
    "\n",
    "Reddit is organised by subreddit (e.g. r/australia). Users then instigate a discussion by posting a submission to a subreddit. Other users then reply to the submission with comments. So the first step is to search a subreddit for submissions. "
   ]
  },
  {
   "cell_type": "code",
   "execution_count": null,
   "metadata": {},
   "outputs": [],
   "source": [
    "submissions = reddit_trees.search_subreddit(query='query', subreddit='subreddit', sort='new')"
   ]
  },
  {
   "cell_type": "markdown",
   "metadata": {},
   "source": [
    "Second step - fetch comments\n",
    "\n",
    "Once you have a list of submission ids you can get back the comments for each id. You need to supply a list of ids to the code. This can be one of many ids. You can use the the submissions to see whihc submissions you want or you can just get eveything"
   ]
  },
  {
   "cell_type": "code",
   "execution_count": null,
   "metadata": {},
   "outputs": [],
   "source": [
    "comments = reddit_trees.fetch_comments(ids_list= submissions['id']) # for all submissions\n",
    "\n",
    "# or\n",
    "\n",
    "comments = reddit_trees.fetch_comments(ids_list = ['id1', 'id2', 'id3']) # for specific submissions"
   ]
  },
  {
   "cell_type": "markdown",
   "metadata": {},
   "source": [
    "Final step - save to file\n",
    "\n"
   ]
  },
  {
   "cell_type": "code",
   "execution_count": null,
   "metadata": {},
   "outputs": [],
   "source": [
    "reddit_trees.save_to_file(df= 'comments', filename='file.csv', file_format='csv') # for csv. NOTE file name needs the .csv extension\n",
    "\n",
    "reddit_trees.save_to_file(df='submissions', filename='file_2.parquet', file_format='parquet') # for parquet NOTE filename needs the .parquet extension\n",
    "\n",
    "reddit_trees.save_to_file(df='comments', filename='file_3.xlsx', file_format='excel') #for excel NOTE filename needs the .xlsx extension"
   ]
  },
  {
   "cell_type": "markdown",
   "metadata": {},
   "source": [
    "Using the AusReddit API "
   ]
  },
  {
   "cell_type": "code",
   "execution_count": null,
   "metadata": {},
   "outputs": [],
   "source": [
    "from aaraw import APIWrapper, APIError"
   ]
  }
 ],
 "metadata": {
  "kernelspec": {
   "display_name": ".venv",
   "language": "python",
   "name": "python3"
  },
  "language_info": {
   "codemirror_mode": {
    "name": "ipython",
    "version": 3
   },
   "file_extension": ".py",
   "mimetype": "text/x-python",
   "name": "python",
   "nbconvert_exporter": "python",
   "pygments_lexer": "ipython3",
   "version": "3.11.9"
  }
 },
 "nbformat": 4,
 "nbformat_minor": 2
}
