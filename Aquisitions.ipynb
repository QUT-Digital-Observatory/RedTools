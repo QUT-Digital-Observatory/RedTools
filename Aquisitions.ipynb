{
 "cells": [
  {
   "cell_type": "markdown",
   "metadata": {},
   "source": [
    "<img src=\"../pics/DO_Logo.PNG\" alt=\"logo\" style=\"width:150px;\"/>\n",
    "\n",
    "<div style=\"background-color: #3398FF; padding: 10px; border-radius: 5px;\">\n",
    "\n",
    "<div align=\"center\">\n",
    "    <h1><strong>&#x1F575; Reddit Aquisitions - gathering data from Reddit and AusReddit.</strong></h1>\n",
    "</div> \n",
    "\n",
    "This is the Aquisitions notebook - Start here!\n",
    "\n",
    "This notebook aquires data from:\n",
    "\n",
    "The Reddit API\n",
    "\n",
    "The AusReddit API\n",
    "\n",
    "Your own data in the from csv or similar\n",
    "\n",
    "It will output a file that can be used with all subsequent notebooks/tools (parquet/csv/excel output files)\n",
    "\n",
    "</div>"
   ]
  },
  {
   "cell_type": "code",
   "execution_count": null,
   "metadata": {},
   "outputs": [],
   "source": [
    "import pandas as pd\n",
    "from reddit_topic_trees import Reddit_trees\n",
    "from api import AusRedditData\n"
   ]
  },
  {
   "cell_type": "code",
   "execution_count": null,
   "metadata": {},
   "outputs": [],
   "source": [
    "reddit_trees = Reddit_trees('config.yaml')"
   ]
  },
  {
   "cell_type": "markdown",
   "metadata": {},
   "source": [
    "First steps - search for submissions\n",
    "\n",
    "Reddit is organised by subreddit (e.g. r/australia). Users then instigate a discussion by posting a submission to a subreddit. Other users then reply to the submission with comments. So the first step is to search a subreddit for submissions. "
   ]
  },
  {
   "cell_type": "markdown",
   "metadata": {},
   "source": [
    "This is the PRAW submission search pattern:\n",
    "\n",
    "submissions = reddit_trees.search_subreddit(query='query', subreddit='subreddit', sort='new')"
   ]
  },
  {
   "cell_type": "code",
   "execution_count": null,
   "metadata": {},
   "outputs": [],
   "source": [
    "snakes_submissions = reddit_trees.search_subreddit(query='snake', subreddit='australia', sort='new')"
   ]
  },
  {
   "cell_type": "code",
   "execution_count": null,
   "metadata": {},
   "outputs": [],
   "source": [
    "print(snakes_submissions)"
   ]
  },
  {
   "cell_type": "markdown",
   "metadata": {},
   "source": [
    "Second step - fetch comments\n",
    "\n",
    "Once you have a list of submission ids you can get back the comments for each id. You need to supply a list of ids to the code. This can be one or many ids. You can use the the submissions to see which submissions you want or you can just get eveything"
   ]
  },
  {
   "cell_type": "markdown",
   "metadata": {},
   "source": [
    "comments = reddit_trees.fetch_comments(ids_list= submissions['id']) # for all submissions\n",
    "\n",
    "or\n",
    "\n",
    "comments = reddit_trees.fetch_comments(ids_list = ['id1', 'id2', 'id3']) # for specific submissions"
   ]
  },
  {
   "cell_type": "code",
   "execution_count": null,
   "metadata": {},
   "outputs": [],
   "source": [
    "snake_comments = reddit_trees.fetch_comments(['1f1jeir'])"
   ]
  },
  {
   "cell_type": "markdown",
   "metadata": {},
   "source": [
    "Final step - save to file\n",
    "\n"
   ]
  },
  {
   "cell_type": "code",
   "execution_count": null,
   "metadata": {},
   "outputs": [],
   "source": [
    "reddit_trees.save_to_file(df= comments, filename='file.csv', file_format='csv') # for csv. NOTE file name needs the .csv extension\n",
    "\n",
    "reddit_trees.save_to_file(df=submissions, filename='file_2.parquet', file_format='parquet') # for parquet NOTE filename needs the .parquet extension\n",
    "\n",
    "reddit_trees.save_to_file(df=comments, filename='file_3.xlsx', file_format='excel') #for excel NOTE filename needs the .xlsx extension"
   ]
  },
  {
   "cell_type": "code",
   "execution_count": null,
   "metadata": {},
   "outputs": [],
   "source": [
    "reddit_trees.save_to_file(snakes_submissions, 'snake_submissions.csv', 'csv')\n",
    "reddit_trees.save_to_file(snake_comments, 'snake_comments.parquet', 'parquet')"
   ]
  },
  {
   "cell_type": "markdown",
   "metadata": {},
   "source": [
    "Using the AusReddit API "
   ]
  },
  {
   "cell_type": "code",
   "execution_count": null,
   "metadata": {},
   "outputs": [],
   "source": [
    "ausreddit = AusRedditData()"
   ]
  },
  {
   "cell_type": "code",
   "execution_count": null,
   "metadata": {},
   "outputs": [],
   "source": [
    "subreddits = ausreddit.list_subreddits()\n",
    "\n",
    "print(subreddits)"
   ]
  },
  {
   "cell_type": "code",
   "execution_count": null,
   "metadata": {},
   "outputs": [],
   "source": [
    "submissions = ausreddit.get_submissions(subreddit_ids = '2qioa')"
   ]
  },
  {
   "cell_type": "code",
   "execution_count": null,
   "metadata": {},
   "outputs": [],
   "source": [
    "comments = ausreddit.get_comments(submission_ids = 'dvw2pi')"
   ]
  },
  {
   "cell_type": "code",
   "execution_count": null,
   "metadata": {},
   "outputs": [],
   "source": [
    "submission_search = ausreddit.search_submissions(query='snake', subreddit='australia')"
   ]
  },
  {
   "cell_type": "code",
   "execution_count": null,
   "metadata": {},
   "outputs": [],
   "source": [
    "comment_search = ausreddit.search_comments(query='black snake', subreddit='australia')"
   ]
  }
 ],
 "metadata": {
  "kernelspec": {
   "display_name": ".venv",
   "language": "python",
   "name": "python3"
  },
  "language_info": {
   "codemirror_mode": {
    "name": "ipython",
    "version": 3
   },
   "file_extension": ".py",
   "mimetype": "text/x-python",
   "name": "python",
   "nbconvert_exporter": "python",
   "pygments_lexer": "ipython3",
   "version": "3.11.9"
  }
 },
 "nbformat": 4,
 "nbformat_minor": 2
}
