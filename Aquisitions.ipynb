{
 "cells": [
  {
   "cell_type": "markdown",
   "metadata": {},
   "source": [
    "This is the Aquisitions notebook - Start here!\n",
    "\n",
    "This notebook aquires data from:\n",
    "\n",
    "The Reddit API\n",
    "\n",
    "The AusReddit API\n",
    "\n",
    "Your own data in the from csv or similar\n",
    "\n",
    "It will output a file that can be used with all subsequent notebooks/tools (parquet/csv/excel output files)"
   ]
  },
  {
   "cell_type": "code",
   "execution_count": null,
   "metadata": {},
   "outputs": [],
   "source": [
    "from reddit_topic_trees import Reddit_trees\n",
    "import praw"
   ]
  },
  {
   "cell_type": "markdown",
   "metadata": {},
   "source": [
    "USING REDDIT API\n",
    "\n",
    "The reddit API is able to be used to gather data. It requires that a \"REDDIT\" praw object. You will need to set up your API access - https://www.reddit.com/r/reddit.com/wiki/api/ for instructions. "
   ]
  },
  {
   "cell_type": "code",
   "execution_count": null,
   "metadata": {},
   "outputs": [],
   "source": [
    "reddit = praw.Reddit(client_id='your-client-id-here', \n",
    "                    client_secret='your-client-secret-here', \n",
    "                    redirect_uri='http://localhost:8080',                     \n",
    "                    user_agent='your-user-agent-here')"
   ]
  },
  {
   "cell_type": "markdown",
   "metadata": {},
   "source": [
    "The code for searching reddit is already contained in the Reddit_trees package so we also need to set that up"
   ]
  },
  {
   "cell_type": "code",
   "execution_count": null,
   "metadata": {},
   "outputs": [],
   "source": [
    "reddit_trees = Reddit_trees()"
   ]
  },
  {
   "cell_type": "markdown",
   "metadata": {},
   "source": [
    "First steps - search for submissions\n",
    "\n",
    "Reddit is organised by subreddit (e.g. r/australia). Users then instigate a discussion by posting a submission to a subreddit. Other users then reply to the submission with comments. So the first step is to search a subreddit for submissions. "
   ]
  },
  {
   "cell_type": "code",
   "execution_count": null,
   "metadata": {},
   "outputs": [],
   "source": [
    "results = reddit_trees.search_subreddit(query='query', subreddit='subreddit', sort='new')"
   ]
  }
 ],
 "metadata": {
  "language_info": {
   "name": "python"
  }
 },
 "nbformat": 4,
 "nbformat_minor": 2
}
