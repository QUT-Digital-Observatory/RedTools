{
 "cells": [
  {
   "cell_type": "code",
   "execution_count": null,
   "metadata": {},
   "outputs": [],
   "source": [
    "from topic_window import TopicWindow\n",
    "import pandas as pd\n",
    "\n",
    "config_path = 'config.yaml'\n"
   ]
  },
  {
   "cell_type": "code",
   "execution_count": null,
   "metadata": {},
   "outputs": [],
   "source": [
    "topic_window_flow = TopicWindow()"
   ]
  },
  {
   "cell_type": "code",
   "execution_count": null,
   "metadata": {},
   "outputs": [],
   "source": [
    "\n",
    "\n",
    "\n",
    "data = pd.read_csv('test_data_csv.csv')\n",
    "\n",
    "data_exp = topic_window_flow.expand_dataframe_with_sentences(data, 'body')\n",
    "\n",
    "topic_window_flow.fit(data_exp, 'created_utc', 'body', 'week')\n",
    "\n",
    "merged_topics, merged_data_frames = topic_window_flow.windows_merge_topics(4)\n",
    " \n",
    "docs =topic_window_flow.get_docs(merged_data_frames, merged_topics, 'body')\n",
    "\n",
    "tot = topic_window_flow.topics_over_time(docs, 'created_utc', 'week')\n",
    "\n",
    "figs = topic_window_flow.plot_topics_over_time(tot)"
   ]
  },
  {
   "cell_type": "code",
   "execution_count": null,
   "metadata": {},
   "outputs": [],
   "source": [
    "print(figs[1])"
   ]
  }
 ],
 "metadata": {
  "language_info": {
   "name": "python"
  }
 },
 "nbformat": 4,
 "nbformat_minor": 2
}
